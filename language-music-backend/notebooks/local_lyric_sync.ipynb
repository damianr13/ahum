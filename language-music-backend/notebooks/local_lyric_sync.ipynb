{
 "cells": [
  {
   "cell_type": "code",
   "execution_count": 1,
   "id": "initial_id",
   "metadata": {
    "collapsed": true,
    "ExecuteTime": {
     "end_time": "2024-01-08T06:57:13.312788Z",
     "start_time": "2024-01-08T06:57:12.562710Z"
    }
   },
   "outputs": [],
   "source": [
    "\n",
    "import matplotlib as plt\n",
    "import youtube_dl\n",
    "from librosa import display"
   ]
  },
  {
   "cell_type": "code",
   "execution_count": 2,
   "outputs": [],
   "source": [
    "from src import firestore\n",
    "\n",
    "db = firestore.init_firestore()\n",
    "songs_ref = db.collection(\"songs\")\n",
    "\n",
    "# Get the song with id \"my-id\"\n",
    "song_ref = songs_ref.document(\"spotify-53riUuAdYqkYRRMOZYVcuZ\")\n",
    "song_doc = song_ref.get().to_dict()"
   ],
   "metadata": {
    "collapsed": false,
    "ExecuteTime": {
     "end_time": "2024-01-08T06:57:15.105555Z",
     "start_time": "2024-01-08T06:57:13.315137Z"
    }
   },
   "id": "160d32446f43a2c2"
  },
  {
   "cell_type": "code",
   "execution_count": 18,
   "outputs": [
    {
     "data": {
      "text/plain": "{'language': 'sw',\n 'lyrics': '[Vers 1]<br/>En ensam kvinna söker en man<br/>Svar till: Hjärtat talar sant<br/>En pessimist i sitt livs form<br/>Jag vädrar blod, det luktar sorg<br/><br/>[Refräng]<br/>En utomjordings kärlekstörst<br/>En undran vem som svek vem först<br/>Ät fett och socker tills du spyr<br/>Eller blir en fyratonsmartyr<br/>Sälj dig, sälj dig dyrt<br/><br/>[Vers 2]<br/><a class=\"ReferentFragmentdesktop__ClickTarget-sc-110r0d9-0 cesxpW\" href=\"/13590978/Kent-dom-andra/Kom-lana-tornekronan-min\"><span class=\"ReferentFragmentdesktop__Highlight-sc-110r0d9-1 jAzSMw\">Kom låna törnekronan min</span></a><span style=\"position:absolute;opacity:0;width:0;height:0;pointer-events:none;z-index:-1\" tabindex=\"0\"></span><span><span style=\"position:absolute;opacity:0;width:0;height:0;pointer-events:none;z-index:-1\" tabindex=\"0\"></span><span style=\"position:absolute;opacity:0;width:0;height:0;pointer-events:none;z-index:-1\" tabindex=\"0\"></span></span><br/>Lid för konsten eller brinn<br/>Jag slåss och håller kroppen varm<br/>En dröm om mammas ömma famn<br/><br/>[Refräng]<br/>En utomjordings kärlekstörst<br/>En undran vem som svek vem först<br/>Och jag blir gärna en martyr<br/>Vi behöver nog en ny<br/>Sälj dig, sälj dig dyrt<br/>[Stick]<br/>Ett långfinger åt döden<br/>Vi gick över lik<br/>Och skylta med vår kärlek<br/>Vårt rika inre liv<br/>Men plåtarna till himlen<br/>Var slut när vi kom dit<br/>Och priset vi betalat<br/>För att klassas som elit<br/>Var att vi blev som dem andra<br/>Vi blev som dem andra<br/>Vi blev som dem andra<br/><br/>[Outro]<br/>Och vi kommer inte längre<br/>Vi är tillbaks på noll<br/>Men ingen kommer sörja<br/>Vi har spelat ut vår roll<br/>Vi glömmer hela skiten<br/>Det betyder ingenting<br/>Vi skulle kommit längre<br/>Men räckte inte till<br/>Vi blev som dem andra<br/>Vi blev som dem andra<br/>Vi blev som dem andra',\n 'word_selection_tasks': [{'target_word': 'socker',\n   'task_id': 0,\n   'alternatives': ['socker', 'jockey', 'söcken']},\n  {'target_word': 'tillbaks',\n   'task_id': 1,\n   'alternatives': ['tillsats', 'tillbaks', 'tillbaka']},\n  {'target_word': 'pessimist',\n   'task_id': 2,\n   'alternatives': ['pessimist', 'pessimism']}],\n 'line_reordering_tasks': [{'task_id': 0,\n   'original_line': 'Men plåtarna till himlen',\n   'scrambled_line': ['till', 'Men', 'himlen', 'plåtarna']}],\n 'spotify_id': '53riUuAdYqkYRRMOZYVcuZ',\n 'processed_lyrics': 'En ensam kvinna söker en man\\nSvar till Hjärtat talar sant\\nEn ____wp2____ i sitt livs form\\n__wst2__\\nJag vädrar blod det luktar sorg\\n\\n \\nEn utomjordings kärlekstörst\\nEn undran vem som svek vem först\\nÄt fett och ___wp0___ tills du spyr\\n__wst0__\\nEller blir en fyratonsmartyr\\nSälj dig sälj dig dyrt\\n\\n \\n Kom låna törnekronan min \\nLid för konsten eller brinn\\nJag slåss och håller kroppen varm\\nEn dröm om mammas ömma famn\\n\\n \\nEn utomjordings kärlekstörst\\nEn undran vem som svek vem först\\nOch jag blir gärna en martyr\\nVi behöver nog en ny\\nSälj dig sälj dig dyrt\\n \\nEtt långfinger åt döden\\nVi gick över lik\\nOch skylta med vår kärlek\\nVårt rika inre liv\\n____________lp0____________\\n__lrt0__\\nVar slut när vi kom dit\\nOch priset vi betalat\\nFör att klassas som elit\\nVar att vi blev som dem andra\\nVi blev som dem andra\\nVi blev som dem andra\\n\\n \\nOch vi kommer inte längre\\nVi är ____wp1____ på noll\\n__wst1__\\nMen ingen kommer sörja\\nVi har spelat ut vår roll\\nVi glömmer hela skiten\\nDet betyder ingenting\\nVi skulle kommit längre\\nMen räckte inte till\\nVi blev som dem andra\\nVi blev som dem andra\\nVi blev som dem andra',\n 'youtube_id': 'fWxUr_vDwwE'}"
     },
     "execution_count": 18,
     "metadata": {},
     "output_type": "execute_result"
    }
   ],
   "source": [
    "song_doc"
   ],
   "metadata": {
    "collapsed": false,
    "ExecuteTime": {
     "end_time": "2024-01-07T13:17:26.066210Z",
     "start_time": "2024-01-07T13:17:26.061561Z"
    }
   },
   "id": "d9d816332cdc4eda"
  },
  {
   "cell_type": "code",
   "execution_count": 3,
   "outputs": [],
   "source": [
    "# downloads yt_url to the same directory from which the script runs\n",
    "def download_audio(yt_url):\n",
    "    ydl_opts = {\n",
    "        'format': 'bestaudio/best',\n",
    "        'postprocessors': [{\n",
    "            'key': 'FFmpegExtractAudio',\n",
    "            'preferredcodec': 'mp3',\n",
    "            'preferredquality': '192',\n",
    "        }],\n",
    "    }\n",
    "    with youtube_dl.YoutubeDL(ydl_opts) as ydl:\n",
    "        ydl.download([yt_url])\n",
    "\n",
    "def main():\n",
    "    yt_url = \"https://www.youtube.com/watch?v=8OAPLk20epo\"\n",
    "    download_audio(yt_url)\n",
    "\n",
    "# main()"
   ],
   "metadata": {
    "collapsed": false,
    "ExecuteTime": {
     "end_time": "2024-01-08T06:57:17.045045Z",
     "start_time": "2024-01-08T06:57:17.042007Z"
    }
   },
   "id": "df5d3f169429ae31"
  },
  {
   "cell_type": "code",
   "execution_count": 4,
   "outputs": [],
   "source": [
    "import pytube \n",
    "yt = pytube.YouTube(f\"https://www.youtube.com/watch?v={song_doc['youtube_id']}\")"
   ],
   "metadata": {
    "collapsed": false,
    "ExecuteTime": {
     "end_time": "2024-01-08T06:57:21.321109Z",
     "start_time": "2024-01-08T06:57:21.306412Z"
    }
   },
   "id": "61a769db23901250"
  },
  {
   "cell_type": "code",
   "execution_count": 5,
   "outputs": [
    {
     "data": {
      "text/plain": "'/Users/robert-andreidamian/Workspace/personal/language-music/language-music-backend/notebooks/../data/songs/fWxUr_vDwwE.webm'"
     },
     "execution_count": 5,
     "metadata": {},
     "output_type": "execute_result"
    }
   ],
   "source": [
    "yt.streams.filter(type=\"audio\", mime_type=\"audio/webm\").order_by(\"abr\").desc().first().download(f\"../data/songs/\", filename=f\"{song_doc['youtube_id']}.webm\")"
   ],
   "metadata": {
    "collapsed": false,
    "ExecuteTime": {
     "end_time": "2024-01-08T06:57:23.880433Z",
     "start_time": "2024-01-08T06:57:22.385929Z"
    }
   },
   "id": "5a8938f8731abcd3"
  },
  {
   "cell_type": "code",
   "execution_count": 6,
   "outputs": [],
   "source": [
    "import subprocess\n",
    "\n",
    "def convert_and_split(filename):\n",
    "    output_file_name = '/'.join(filename.split('/')[:-1]) + \"/\" + filename.split('/')[-1].split('.')[0] + \".wav\"\n",
    "    command = ['ffmpeg', '-y', '-i', filename, '-ac',  '2', '-vn', output_file_name]\n",
    "    subprocess.run(command,stdout=subprocess.PIPE,stdin=subprocess.PIPE)\n"
   ],
   "metadata": {
    "collapsed": false,
    "ExecuteTime": {
     "end_time": "2024-01-08T06:57:32.794735Z",
     "start_time": "2024-01-08T06:57:32.787985Z"
    }
   },
   "id": "e5267ccbdbb4dc45"
  },
  {
   "cell_type": "code",
   "execution_count": 7,
   "outputs": [
    {
     "name": "stderr",
     "output_type": "stream",
     "text": [
      "ffmpeg version 6.1.1 Copyright (c) 2000-2023 the FFmpeg developers\n",
      "  built with Apple clang version 15.0.0 (clang-1500.1.0.2.5)\n",
      "  configuration: --prefix=/usr/local/Cellar/ffmpeg/6.1.1_2 --enable-shared --enable-pthreads --enable-version3 --cc=clang --host-cflags= --host-ldflags='-Wl,-ld_classic' --enable-ffplay --enable-gnutls --enable-gpl --enable-libaom --enable-libaribb24 --enable-libbluray --enable-libdav1d --enable-libharfbuzz --enable-libjxl --enable-libmp3lame --enable-libopus --enable-librav1e --enable-librist --enable-librubberband --enable-libsnappy --enable-libsrt --enable-libsvtav1 --enable-libtesseract --enable-libtheora --enable-libvidstab --enable-libvmaf --enable-libvorbis --enable-libvpx --enable-libwebp --enable-libx264 --enable-libx265 --enable-libxml2 --enable-libxvid --enable-lzma --enable-libfontconfig --enable-libfreetype --enable-frei0r --enable-libass --enable-libopencore-amrnb --enable-libopencore-amrwb --enable-libopenjpeg --enable-libspeex --enable-libsoxr --enable-libzmq --enable-libzimg --disable-libjack --disable-indev=jack --enable-videotoolbox --enable-audiotoolbox\n",
      "  libavutil      58. 29.100 / 58. 29.100\n",
      "  libavcodec     60. 31.102 / 60. 31.102\n",
      "  libavformat    60. 16.100 / 60. 16.100\n",
      "  libavdevice    60.  3.100 / 60.  3.100\n",
      "  libavfilter     9. 12.100 /  9. 12.100\n",
      "  libswscale      7.  5.100 /  7.  5.100\n",
      "  libswresample   4. 12.100 /  4. 12.100\n",
      "  libpostproc    57.  3.100 / 57.  3.100\n",
      "Input #0, matroska,webm, from '../data/songs/fWxUr_vDwwE.webm':\n",
      "  Metadata:\n",
      "    encoder         : google/video-file\n",
      "  Duration: 00:04:11.82, start: -0.007000, bitrate: 129 kb/s\n",
      "  Stream #0:0(eng): Audio: opus, 48000 Hz, stereo, fltp (default)\n",
      "Stream mapping:\n",
      "  Stream #0:0 -> #0:0 (opus (native) -> pcm_s16le (native))\n",
      "Press [q] to stop, [?] for help\n",
      "Output #0, wav, to '../data/songs/fWxUr_vDwwE.wav':\n",
      "  Metadata:\n",
      "    ISFT            : Lavf60.16.100\n",
      "  Stream #0:0(eng): Audio: pcm_s16le ([1][0][0][0] / 0x0001), 48000 Hz, stereo, s16, 1536 kb/s (default)\n",
      "    Metadata:\n",
      "      encoder         : Lavc60.31.102 pcm_s16le\n",
      "[out#0/wav @ 0x7ff164905ec0] video:0kB audio:47214kB subtitle:0kB other streams:0kB global headers:0kB muxing overhead: 0.000161%\n",
      "size=   47214kB time=00:04:11.80 bitrate=1536.1kbits/s speed= 362x    \n"
     ]
    }
   ],
   "source": [
    "convert_and_split(\"../data/songs/fWxUr_vDwwE.webm\")"
   ],
   "metadata": {
    "collapsed": false,
    "ExecuteTime": {
     "end_time": "2024-01-08T06:57:36.497634Z",
     "start_time": "2024-01-08T06:57:35.504220Z"
    }
   },
   "id": "ab7b266574432112"
  },
  {
   "cell_type": "code",
   "execution_count": 1,
   "outputs": [],
   "source": [
    "input_file = \"../data/songs/fWxUr_vDwwE.wav\""
   ],
   "metadata": {
    "collapsed": false,
    "ExecuteTime": {
     "end_time": "2024-01-07T14:35:12.078290Z",
     "start_time": "2024-01-07T14:35:12.075347Z"
    }
   },
   "id": "fc2d3108da67969c"
  },
  {
   "cell_type": "code",
   "execution_count": 2,
   "outputs": [],
   "source": [
    "from asteroid.models import BaseModel\n",
    "import soundfile as sf\n",
    "\n",
    "# 'from_pretrained' automatically uses the right model class (asteroid.models.DPRNNTasNet).\n",
    "model = BaseModel.from_pretrained(\"mpariente/DPRNNTasNet-ks2_WHAM_sepclean\")\n",
    "\n",
    "# You can pass a NumPy array:\n",
    "mixture, _ = sf.read(input_file, dtype=\"float32\", always_2d=True)\n",
    "# Soundfile returns the mixture as shape (time, channels), and Asteroid expects (batch, channels, time)\n",
    "mixture = mixture.transpose()\n",
    "mixture = mixture.reshape(1, mixture.shape[0], mixture.shape[1])\n"
   ],
   "metadata": {
    "collapsed": false,
    "ExecuteTime": {
     "end_time": "2024-01-07T14:35:26.304103Z",
     "start_time": "2024-01-07T14:35:22.837776Z"
    }
   },
   "id": "5b793bf4d5399271"
  },
  {
   "cell_type": "code",
   "execution_count": null,
   "outputs": [],
   "source": [
    "out_wavs = model.separate(mixture)"
   ],
   "metadata": {
    "collapsed": false,
    "ExecuteTime": {
     "start_time": "2024-01-07T14:35:31.374057Z"
    }
   },
   "id": "7d929fdf9da61984"
  },
  {
   "cell_type": "code",
   "execution_count": null,
   "outputs": [],
   "source": [
    "import numpy as np\n",
    "import matplotlib.pyplot as plt\n",
    "import librosa\n",
    "import librosa.display\n",
    "\n",
    "\n",
    "def show_magspec(waveform, **kw):\n",
    "    return librosa.display.specshow(\n",
    "        librosa.amplitude_to_db(np.abs(librosa.stft(waveform))),\n",
    "        y_axis=\"log\", x_axis=\"time\",\n",
    "        **kw\n",
    "    )\n",
    "\n",
    "\n",
    "est1 = sf.read(\"female-female-mixture_est1.wav\")[0]\n",
    "est2 = sf.read(\"female-female-mixture_est2.wav\")[0]\n",
    "\n",
    "fig, ax = plt.subplots(1, 2, figsize=(15, 5))\n",
    "show_magspec(est1, sr=8000, ax=ax[0])\n",
    "show_magspec(est2, sr=8000, ax=ax[1])"
   ],
   "metadata": {
    "collapsed": false
   },
   "id": "548970b918911e27"
  },
  {
   "cell_type": "code",
   "execution_count": 1,
   "outputs": [],
   "source": [],
   "metadata": {
    "collapsed": false,
    "ExecuteTime": {
     "end_time": "2024-01-07T14:04:29.731743Z",
     "start_time": "2024-01-07T14:04:29.725509Z"
    }
   },
   "id": "7d88c24ea9a46131"
  },
  {
   "cell_type": "markdown",
   "source": [
    "# With Spleeter"
   ],
   "metadata": {
    "collapsed": false
   },
   "id": "a5f453d0908bf2e4"
  },
  {
   "cell_type": "code",
   "execution_count": 1,
   "outputs": [],
   "source": [
    "from scipy.io import wavfile\n",
    "\n",
    "input_wav = wavfile.read(\"../data/songs/fWxUr_vDwwE.wav\")"
   ],
   "metadata": {
    "collapsed": false,
    "ExecuteTime": {
     "end_time": "2024-01-07T14:52:14.897083Z",
     "start_time": "2024-01-07T14:52:14.689525Z"
    }
   },
   "id": "dc4809de34957398"
  },
  {
   "cell_type": "code",
   "execution_count": null,
   "outputs": [],
   "source": [
    "from spleeter.separator import Separator\n",
    "\n",
    "separator = Separator('spleeter:2stems')\n",
    "separated_output = separator.separate(input_wav[1])"
   ],
   "metadata": {
    "collapsed": false,
    "is_executing": true,
    "ExecuteTime": {
     "start_time": "2024-01-07T14:52:34.728315Z"
    }
   },
   "id": "ccb11b78ca4b1e1d"
  },
  {
   "cell_type": "code",
   "execution_count": 9,
   "outputs": [
    {
     "name": "stdout",
     "output_type": "stream",
     "text": [
      "Sample rate: 44100\n",
      "Separating track\n"
     ]
    }
   ],
   "source": [
    "\n",
    "import torch\n",
    "import torchaudio\n",
    "import matplotlib.pyplot as plt\n",
    "from torchaudio.pipelines import HDEMUCS_HIGH_MUSDB_PLUS\n",
    "\n",
    "bundle = HDEMUCS_HIGH_MUSDB_PLUS\n",
    "\n",
    "model = bundle.get_model()\n",
    "\n",
    "device = torch.device(\"cpu\")\n",
    "\n",
    "model.to(device)\n",
    "\n",
    "sample_rate = bundle.sample_rate\n",
    "\n",
    "print(f\"Sample rate: {sample_rate}\")\n",
    "\n",
    "\n",
    "from torchaudio.transforms import Fade\n",
    "\n",
    "\n",
    "def separate_sources(\n",
    "    model,\n",
    "    mix,\n",
    "    segment=10.0,\n",
    "    overlap=0.1,\n",
    "    device=None,\n",
    "):\n",
    "    \"\"\"\n",
    "    Apply model to a given mixture. Use fade, and add segments together in order to add model segment by segment.\n",
    "\n",
    "    Args:\n",
    "        segment (int): segment length in seconds\n",
    "        device (torch.device, str, or None): if provided, device on which to\n",
    "            execute the computation, otherwise `mix.device` is assumed.\n",
    "            When `device` is different from `mix.device`, only local computations will\n",
    "            be on `device`, while the entire tracks will be stored on `mix.device`.\n",
    "    \"\"\"\n",
    "    if device is None:\n",
    "        device = mix.device\n",
    "    else:\n",
    "        device = torch.device(device)\n",
    "\n",
    "    batch, channels, length = mix.shape\n",
    "\n",
    "    chunk_len = int(sample_rate * segment * (1 + overlap))\n",
    "    start = 0\n",
    "    end = chunk_len\n",
    "    overlap_frames = overlap * sample_rate\n",
    "    fade = Fade(fade_in_len=0, fade_out_len=int(overlap_frames), fade_shape=\"linear\")\n",
    "\n",
    "    final = torch.zeros(batch, len(model.sources), channels, length, device=device)\n",
    "\n",
    "    while start < length - overlap_frames:\n",
    "        chunk = mix[:, :, start:end]\n",
    "        with torch.no_grad():\n",
    "            out = model.forward(chunk)\n",
    "        out = fade(out)\n",
    "        final[:, :, :, start:end] += out\n",
    "        if start == 0:\n",
    "            fade.fade_in_len = int(overlap_frames)\n",
    "            start += int(chunk_len - overlap_frames)\n",
    "        else:\n",
    "            start += chunk_len\n",
    "        end += chunk_len\n",
    "        if end >= length:\n",
    "            fade.fade_out_len = 0\n",
    "    return final\n",
    "\n",
    "\n",
    "def plot_spectrogram(stft, title=\"Spectrogram\"):\n",
    "    magnitude = stft.abs()\n",
    "    spectrogram = 20 * torch.log10(magnitude + 1e-8).numpy()\n",
    "    _, axis = plt.subplots(1, 1)\n",
    "    axis.imshow(spectrogram, cmap=\"viridis\", vmin=-60, vmax=0, origin=\"lower\", aspect=\"auto\")\n",
    "    axis.set_title(title)\n",
    "    plt.tight_layout()\n",
    "\n",
    "\n",
    "\n",
    "\n",
    "# We download the audio file from our storage. Feel free to download another file and use audio from a specific path\n",
    "SAMPLE_SONG = \"../data/songs/fWxUr_vDwwE.wav\"\n",
    "waveform, sample_rate = torchaudio.load(SAMPLE_SONG)  # replace SAMPLE_SONG with desired path for different song\n",
    "waveform = waveform.to(device)\n",
    "mixture = waveform\n",
    "\n",
    "# parameters\n",
    "segment: int = 10\n",
    "overlap = 0.1\n",
    "\n",
    "print(\"Separating track\")\n",
    "\n",
    "ref = waveform.mean(0)\n",
    "waveform = (waveform - ref.mean()) / ref.std()  # normalization\n",
    "\n",
    "sources = separate_sources(\n",
    "    model,\n",
    "    waveform[None],\n",
    "    device=device,\n",
    "    segment=segment,\n",
    "    overlap=overlap,\n",
    ")[0]\n",
    "sources = sources * ref.std() + ref.mean()\n",
    "\n",
    "sources_list = model.sources\n",
    "sources = list(sources)\n",
    "\n",
    "audios = dict(zip(sources_list, sources))\n",
    "\n"
   ],
   "metadata": {
    "collapsed": false,
    "ExecuteTime": {
     "end_time": "2024-01-08T07:11:54.380208Z",
     "start_time": "2024-01-08T07:10:57.967624Z"
    }
   },
   "id": "351fbec060d4f632"
  },
  {
   "cell_type": "code",
   "execution_count": 10,
   "outputs": [],
   "source": [
    "torchaudio.save(\"../data/songs/fWxUr_vDwwE-vocals.wav\", audios[\"vocals\"], sample_rate)"
   ],
   "metadata": {
    "collapsed": false,
    "ExecuteTime": {
     "end_time": "2024-01-08T07:12:56.675268Z",
     "start_time": "2024-01-08T07:12:56.674134Z"
    }
   },
   "id": "bfad236065077ff8"
  },
  {
   "cell_type": "code",
   "execution_count": 1,
   "outputs": [],
   "source": [
    "import pydub\n",
    "import pydub.silence\n",
    "\n",
    "sound = pydub.AudioSegment.from_file(\"../data/songs/fWxUr_vDwwE/vocals.wav\", format=\"wav\")\n",
    "silent_ranges = pydub.silence.detect_silence(\n",
    "    sound, \n",
    "    min_silence_len=1000,\n",
    "    silence_thresh=-40,\n",
    ")\n"
   ],
   "metadata": {
    "collapsed": false,
    "ExecuteTime": {
     "end_time": "2024-01-09T06:08:34.587781Z",
     "start_time": "2024-01-09T06:08:13.372048Z"
    }
   },
   "id": "a2833279e00fbbf"
  },
  {
   "cell_type": "code",
   "execution_count": 15,
   "outputs": [
    {
     "data": {
      "text/plain": "[[0, 21438],\n [21758, 40079],\n [87769, 91411],\n [91657, 93237],\n [94447, 96014],\n [96321, 100525],\n [142742, 153981],\n [154035, 159314],\n [187417, 189767],\n [190242, 191487],\n [217543, 223451],\n [223494, 245233],\n [245259, 248389]]"
     },
     "execution_count": 15,
     "metadata": {},
     "output_type": "execute_result"
    }
   ],
   "source": [
    "silent_ranges"
   ],
   "metadata": {
    "collapsed": false,
    "ExecuteTime": {
     "end_time": "2024-01-08T08:20:41.948362Z",
     "start_time": "2024-01-08T08:20:41.945842Z"
    }
   },
   "id": "7f41ba5c814e4d54"
  },
  {
   "cell_type": "code",
   "execution_count": 2,
   "outputs": [],
   "source": [
    "chunks = pydub.silence.split_on_silence(sound, min_silence_len=5000, silence_thresh=-32, keep_silence=1000)"
   ],
   "metadata": {
    "collapsed": false,
    "ExecuteTime": {
     "end_time": "2024-01-09T06:10:10.331850Z",
     "start_time": "2024-01-09T06:08:34.640393Z"
    }
   },
   "id": "de3020e8cb778122"
  },
  {
   "cell_type": "code",
   "execution_count": 4,
   "outputs": [
    {
     "data": {
      "text/plain": "[[41686, 81610],\n [101164, 140991],\n [160557, 184367],\n [192568, 216218],\n [250873, 251809]]"
     },
     "execution_count": 4,
     "metadata": {},
     "output_type": "execute_result"
    }
   ],
   "source": [
    "pydub.silence.detect_nonsilent(sound, min_silence_len=5000, silence_thresh=-32)"
   ],
   "metadata": {
    "collapsed": false,
    "ExecuteTime": {
     "end_time": "2024-01-09T06:13:37.027780Z",
     "start_time": "2024-01-09T06:12:08.320389Z"
    }
   },
   "id": "7c50f387ce5998f5"
  },
  {
   "cell_type": "code",
   "execution_count": 3,
   "outputs": [
    {
     "data": {
      "text/plain": "[<pydub.audio_segment.AudioSegment at 0x10cac3a90>,\n <pydub.audio_segment.AudioSegment at 0x10cac3f10>,\n <pydub.audio_segment.AudioSegment at 0x10cac2c50>,\n <pydub.audio_segment.AudioSegment at 0x10cac3370>,\n <pydub.audio_segment.AudioSegment at 0x10cac3310>]"
     },
     "execution_count": 3,
     "metadata": {},
     "output_type": "execute_result"
    }
   ],
   "source": [
    "chunks"
   ],
   "metadata": {
    "collapsed": false,
    "ExecuteTime": {
     "end_time": "2024-01-09T06:10:10.337972Z",
     "start_time": "2024-01-09T06:10:10.334335Z"
    }
   },
   "id": "f7293f7f688ad96c"
  },
  {
   "cell_type": "code",
   "execution_count": 5,
   "outputs": [],
   "source": [
    "from pydub.playback import play"
   ],
   "metadata": {
    "collapsed": false,
    "ExecuteTime": {
     "end_time": "2024-01-08T18:01:32.177511Z",
     "start_time": "2024-01-08T18:01:32.161085Z"
    }
   },
   "id": "edd30a1d4418009a"
  },
  {
   "cell_type": "code",
   "execution_count": 16,
   "outputs": [
    {
     "name": "stderr",
     "output_type": "stream",
     "text": [
      "Input #0, wav, from '/var/folders/n7/47q7nnr50llfkvhdcw2r73m80000gn/T/tmp2nws7lk6.wav':\n",
      "  Duration: 00:00:41.92, bitrate: 1411 kb/s\n",
      "  Stream #0:0: Audio: pcm_s16le ([1][0][0][0] / 0x0001), 44100 Hz, 2 channels, s16, 1411 kb/s\n",
      "  41.86 M-A: -0.000 fd=   0 aq=    0KB vq=    0KB sq=    0B f=0/0   \r"
     ]
    },
    {
     "name": "stdout",
     "output_type": "stream",
     "text": []
    }
   ],
   "source": [
    "play(chunks[0])"
   ],
   "metadata": {
    "collapsed": false,
    "ExecuteTime": {
     "end_time": "2024-01-08T18:07:12.657015Z",
     "start_time": "2024-01-08T18:06:30.195507Z"
    }
   },
   "id": "94caa6e3025508db"
  },
  {
   "cell_type": "code",
   "execution_count": 4,
   "outputs": [
    {
     "name": "stdout",
     "output_type": "stream",
     "text": [
      "Importing the dtw module. When using in academic works please cite:\n",
      "  T. Giorgino. Computing and Visualizing Dynamic Time Warping Alignments in R: The dtw Package.\n",
      "  J. Stat. Soft., doi:10.18637/jss.v031.i07.\n"
     ]
    }
   ],
   "source": [
    "import whisper_timestamped"
   ],
   "metadata": {
    "collapsed": false,
    "ExecuteTime": {
     "end_time": "2024-01-08T17:57:35.752251Z",
     "start_time": "2024-01-08T17:57:24.196513Z"
    }
   },
   "id": "68350fec9837626"
  },
  {
   "cell_type": "code",
   "execution_count": 11,
   "outputs": [],
   "source": [
    "import numpy as np\n",
    "first_chunk_array = np.array(chunks[0].get_array_of_samples())"
   ],
   "metadata": {
    "collapsed": false,
    "ExecuteTime": {
     "end_time": "2024-01-08T18:03:35.088657Z",
     "start_time": "2024-01-08T18:03:35.079353Z"
    }
   },
   "id": "389706233326dadd"
  },
  {
   "cell_type": "code",
   "execution_count": 12,
   "outputs": [
    {
     "data": {
      "text/plain": "array([   4, -202,  302, ..., -731, -724, -712], dtype=int16)"
     },
     "execution_count": 12,
     "metadata": {},
     "output_type": "execute_result"
    }
   ],
   "source": [
    "first_chunk_array"
   ],
   "metadata": {
    "collapsed": false,
    "ExecuteTime": {
     "end_time": "2024-01-08T18:03:35.759383Z",
     "start_time": "2024-01-08T18:03:35.752862Z"
    }
   },
   "id": "5664f0474bb694b4"
  },
  {
   "cell_type": "code",
   "execution_count": 13,
   "outputs": [],
   "source": [
    "np.savetxt(\"first_chunk.wav\", first_chunk_array, fmt=\"%d\", delimiter=\",\", newline=\"\\n\")"
   ],
   "metadata": {
    "collapsed": false,
    "ExecuteTime": {
     "end_time": "2024-01-08T18:03:40.083563Z",
     "start_time": "2024-01-08T18:03:37.846277Z"
    }
   },
   "id": "3761f3116a66e8d5"
  },
  {
   "cell_type": "code",
   "execution_count": 17,
   "outputs": [
    {
     "ename": "TypeError",
     "evalue": "a bytes-like object is required, not 'AudioSegment'",
     "output_type": "error",
     "traceback": [
      "\u001B[0;31m---------------------------------------------------------------------------\u001B[0m",
      "\u001B[0;31mTypeError\u001B[0m                                 Traceback (most recent call last)",
      "Cell \u001B[0;32mIn[17], line 2\u001B[0m\n\u001B[1;32m      1\u001B[0m \u001B[38;5;28;01mfrom\u001B[39;00m \u001B[38;5;21;01mscipy\u001B[39;00m\u001B[38;5;21;01m.\u001B[39;00m\u001B[38;5;21;01mio\u001B[39;00m\u001B[38;5;21;01m.\u001B[39;00m\u001B[38;5;21;01mwavfile\u001B[39;00m \u001B[38;5;28;01mimport\u001B[39;00m write \n\u001B[0;32m----> 2\u001B[0m write(\u001B[38;5;124m\"\u001B[39m\u001B[38;5;124mfirst_chunk.wav\u001B[39m\u001B[38;5;124m\"\u001B[39m, chunks[\u001B[38;5;241m0\u001B[39m]\u001B[38;5;241m.\u001B[39mframe_rate, \u001B[43mnp\u001B[49m\u001B[38;5;241;43m.\u001B[39;49m\u001B[43mfromstring\u001B[49m\u001B[43m(\u001B[49m\u001B[43mchunks\u001B[49m\u001B[43m[\u001B[49m\u001B[38;5;241;43m0\u001B[39;49m\u001B[43m]\u001B[49m\u001B[43m)\u001B[49m)\n",
      "\u001B[0;31mTypeError\u001B[0m: a bytes-like object is required, not 'AudioSegment'"
     ]
    }
   ],
   "source": [
    "from scipy.io.wavfile import write \n",
    "write(\"first_chunk.wav\", chunks[0].frame_rate, np.fromstring(chunks[0]))"
   ],
   "metadata": {
    "collapsed": false,
    "ExecuteTime": {
     "end_time": "2024-01-08T18:08:23.814735Z",
     "start_time": "2024-01-08T18:08:23.780797Z"
    }
   },
   "id": "ca275d49fa82d944"
  },
  {
   "cell_type": "code",
   "execution_count": 26,
   "outputs": [],
   "source": [
    "audio = chunks[0].set_frame_rate(16000)"
   ],
   "metadata": {
    "collapsed": false,
    "ExecuteTime": {
     "end_time": "2024-01-08T18:17:43.952491Z",
     "start_time": "2024-01-08T18:17:43.950803Z"
    }
   },
   "id": "130f10e5d5cd959"
  },
  {
   "cell_type": "code",
   "execution_count": 27,
   "outputs": [],
   "source": [
    "audio_array = np.array(audio.get_array_of_samples(), dtype=np.float32).reshape((-1, audio.channels)) / (\n",
    "            1 << (8 * audio.sample_width - 1)), audio.frame_rate"
   ],
   "metadata": {
    "collapsed": false,
    "ExecuteTime": {
     "end_time": "2024-01-08T18:17:45.703522Z",
     "start_time": "2024-01-08T18:17:45.695579Z"
    }
   },
   "id": "e6dfabbea198707b"
  },
  {
   "cell_type": "code",
   "execution_count": 28,
   "outputs": [],
   "source": [
    "write(\"first_chunk.wav\", 16000, audio_array[0])"
   ],
   "metadata": {
    "collapsed": false,
    "ExecuteTime": {
     "end_time": "2024-01-08T18:17:51.860323Z",
     "start_time": "2024-01-08T18:17:51.853555Z"
    }
   },
   "id": "3421b97b4328319d"
  },
  {
   "cell_type": "code",
   "execution_count": null,
   "outputs": [],
   "source": [],
   "metadata": {
    "collapsed": false
   },
   "id": "139cd9ae713cce76"
  }
 ],
 "metadata": {
  "kernelspec": {
   "display_name": "Python 3",
   "language": "python",
   "name": "python3"
  },
  "language_info": {
   "codemirror_mode": {
    "name": "ipython",
    "version": 2
   },
   "file_extension": ".py",
   "mimetype": "text/x-python",
   "name": "python",
   "nbconvert_exporter": "python",
   "pygments_lexer": "ipython2",
   "version": "2.7.6"
  }
 },
 "nbformat": 4,
 "nbformat_minor": 5
}
